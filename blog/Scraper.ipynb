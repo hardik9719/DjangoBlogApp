{
 "cells": [
  {
   "cell_type": "code",
   "execution_count": 1,
   "id": "6b3a2f3b",
   "metadata": {},
   "outputs": [],
   "source": [
    "from bs4 import BeautifulSoup"
   ]
  },
  {
   "cell_type": "code",
   "execution_count": 9,
   "id": "8c8b6365",
   "metadata": {},
   "outputs": [],
   "source": [
    "with open(\"templates/blog/mediumsearch.html\",encoding=\"utf8\") as fp:\n",
    "    soup = BeautifulSoup(fp, \"html.parser\")"
   ]
  },
  {
   "cell_type": "code",
   "execution_count": 19,
   "id": "39b188b8",
   "metadata": {},
   "outputs": [],
   "source": [
    "items = soup.find_all(\"div\",class_='postArticle-content',limit=10)"
   ]
  },
  {
   "cell_type": "code",
   "execution_count": 42,
   "id": "dc501754",
   "metadata": {},
   "outputs": [
    {
     "name": "stdout",
     "output_type": "stream",
     "text": [
      "https://happytech.info/tour-inside-the-biggest-mine-for-the-betcoin-mining-in-iceland-124c44ffae90?source=search_post---------0\n",
      "https://medium.com/@BountyBase/betcoin-third-web-ecosystem-with-wallet-app-and-debit-card-3039c859bac9?source=search_post---------1\n",
      "https://medium.com/betcoin/what-betcoin-offers-to-the-cryptocurrency-market-93fa2c9f97f?source=search_post---------2\n",
      "https://medium.com/@betcoin/heres-why-betcoin-debit-card-can-be-used-globally-5e665112b2c0?source=search_post---------3\n",
      "https://medium.com/@betcoin/foreseeing-the-cryptocurrency-boulevard-9115bcc3d1c5?source=search_post---------4\n",
      "https://medium.com/@betcoin/betcoin-a-cryptocurrency-debit-card-for-your-daily-purchases-65e6d4ec5605?source=search_post---------5\n",
      "https://medium.com/betcoin/confused-about-choosing-wallets-betcoin-is-here-to-help-f35e7a3e4221?source=search_post---------6\n",
      "https://medium.com/@coinbet.bet/we-comming-soon-3b0fd5da17ea?source=search_post---------7\n",
      "https://medium.com/@coinbet.bet/statista-com%EC%97%90-%EB%94%B0%EB%A5%B4%EB%A9%B4-%EC%84%B8%EA%B3%84-%EB%8F%84%EB%B0%95%EC%9D%80-ceb986b4ef31?source=search_post---------8\n",
      "https://medium.com/@ubet.official/u-bet-and-the-future-of-on-line-sports-betting-213556d4b091?source=search_post---------9\n"
     ]
    }
   ],
   "source": [
    "# soup.find_all(\"a\",\"div postArticle-content\",limit=10)\n",
    "# soup.select(\"div.postArticle-content > a\")\n",
    "for div in items:\n",
    "    print (div.find('a')['href'])\n",
    "#     print(type(div.find('a')))\n",
    "        \n",
    "    "
   ]
  },
  {
   "cell_type": "code",
   "execution_count": 62,
   "id": "33c15fee",
   "metadata": {},
   "outputs": [
    {
     "name": "stdout",
     "output_type": "stream",
     "text": [
      "https://medium.com/tag/betcoin?source=search\n",
      "Betcoin\n",
      "https://medium.com/tag/slot?source=search\n",
      "Slot\n",
      "https://medium.com/tag/betcoin88?source=search\n",
      "Betcoin88\n",
      "https://medium.com/tag/betcoinasia?source=search\n",
      "Betcoinasia\n",
      "https://medium.com/tag/cryptocurrency?source=search\n",
      "Cryptocurrency\n",
      "https://medium.com/tag/idn-live?source=search\n",
      "Idn Live\n",
      "https://medium.com/tag/bitcoin?source=search\n",
      "Bitcoin\n",
      "https://medium.com/tag/blockchain?source=search\n",
      "Blockchain\n",
      "https://medium.com/tag/crypto?source=search\n",
      "Crypto\n",
      "https://medium.com/tag/ethereum?source=search\n",
      "Ethereum\n"
     ]
    }
   ],
   "source": [
    "suggestions = soup.find(\"ul\",class_=\"tags\")\n",
    "# type(suggestions[0])\n",
    "links = suggestions.find_all(\"a\")\n",
    "for l in links:\n",
    "    print(l['href'])\n",
    "    print(l.text)\n"
   ]
  },
  {
   "cell_type": "code",
   "execution_count": 21,
   "id": "d26daeda",
   "metadata": {},
   "outputs": [
    {
     "data": {
      "text/plain": [
       "bs4.element.ResultSet"
      ]
     },
     "execution_count": 21,
     "metadata": {},
     "output_type": "execute_result"
    }
   ],
   "source": [
    "type(items)"
   ]
  },
  {
   "cell_type": "code",
   "execution_count": 23,
   "id": "ec49967e",
   "metadata": {},
   "outputs": [
    {
     "data": {
      "text/plain": [
       "bs4.element.Tag"
      ]
     },
     "execution_count": 23,
     "metadata": {},
     "output_type": "execute_result"
    }
   ],
   "source": [
    "type(items[0])"
   ]
  },
  {
   "cell_type": "code",
   "execution_count": 24,
   "id": "ded06f8d",
   "metadata": {},
   "outputs": [
    {
     "data": {
      "text/plain": [
       "['DEFAULT_INTERESTING_STRING_TYPES',\n",
       " '__bool__',\n",
       " '__call__',\n",
       " '__class__',\n",
       " '__contains__',\n",
       " '__copy__',\n",
       " '__delattr__',\n",
       " '__delitem__',\n",
       " '__dict__',\n",
       " '__dir__',\n",
       " '__doc__',\n",
       " '__eq__',\n",
       " '__format__',\n",
       " '__ge__',\n",
       " '__getattr__',\n",
       " '__getattribute__',\n",
       " '__getitem__',\n",
       " '__gt__',\n",
       " '__hash__',\n",
       " '__init__',\n",
       " '__init_subclass__',\n",
       " '__iter__',\n",
       " '__le__',\n",
       " '__len__',\n",
       " '__lt__',\n",
       " '__module__',\n",
       " '__ne__',\n",
       " '__new__',\n",
       " '__reduce__',\n",
       " '__reduce_ex__',\n",
       " '__repr__',\n",
       " '__setattr__',\n",
       " '__setitem__',\n",
       " '__sizeof__',\n",
       " '__str__',\n",
       " '__subclasshook__',\n",
       " '__unicode__',\n",
       " '__weakref__',\n",
       " '_all_strings',\n",
       " '_find_all',\n",
       " '_find_one',\n",
       " '_is_xml',\n",
       " '_lastRecursiveChild',\n",
       " '_last_descendant',\n",
       " '_should_pretty_print',\n",
       " 'append',\n",
       " 'attrs',\n",
       " 'can_be_empty_element',\n",
       " 'cdata_list_attributes',\n",
       " 'childGenerator',\n",
       " 'children',\n",
       " 'clear',\n",
       " 'contents',\n",
       " 'decode',\n",
       " 'decode_contents',\n",
       " 'decompose',\n",
       " 'decomposed',\n",
       " 'default',\n",
       " 'descendants',\n",
       " 'encode',\n",
       " 'encode_contents',\n",
       " 'extend',\n",
       " 'extract',\n",
       " 'fetchNextSiblings',\n",
       " 'fetchParents',\n",
       " 'fetchPrevious',\n",
       " 'fetchPreviousSiblings',\n",
       " 'find',\n",
       " 'findAll',\n",
       " 'findAllNext',\n",
       " 'findAllPrevious',\n",
       " 'findChild',\n",
       " 'findChildren',\n",
       " 'findNext',\n",
       " 'findNextSibling',\n",
       " 'findNextSiblings',\n",
       " 'findParent',\n",
       " 'findParents',\n",
       " 'findPrevious',\n",
       " 'findPreviousSibling',\n",
       " 'findPreviousSiblings',\n",
       " 'find_all',\n",
       " 'find_all_next',\n",
       " 'find_all_previous',\n",
       " 'find_next',\n",
       " 'find_next_sibling',\n",
       " 'find_next_siblings',\n",
       " 'find_parent',\n",
       " 'find_parents',\n",
       " 'find_previous',\n",
       " 'find_previous_sibling',\n",
       " 'find_previous_siblings',\n",
       " 'format_string',\n",
       " 'formatter_for_name',\n",
       " 'get',\n",
       " 'getText',\n",
       " 'get_attribute_list',\n",
       " 'get_text',\n",
       " 'has_attr',\n",
       " 'has_key',\n",
       " 'hidden',\n",
       " 'index',\n",
       " 'insert',\n",
       " 'insert_after',\n",
       " 'insert_before',\n",
       " 'interesting_string_types',\n",
       " 'isSelfClosing',\n",
       " 'is_empty_element',\n",
       " 'known_xml',\n",
       " 'name',\n",
       " 'namespace',\n",
       " 'next',\n",
       " 'nextGenerator',\n",
       " 'nextSibling',\n",
       " 'nextSiblingGenerator',\n",
       " 'next_element',\n",
       " 'next_elements',\n",
       " 'next_sibling',\n",
       " 'next_siblings',\n",
       " 'parent',\n",
       " 'parentGenerator',\n",
       " 'parents',\n",
       " 'parserClass',\n",
       " 'parser_class',\n",
       " 'prefix',\n",
       " 'preserve_whitespace_tags',\n",
       " 'prettify',\n",
       " 'previous',\n",
       " 'previousGenerator',\n",
       " 'previousSibling',\n",
       " 'previousSiblingGenerator',\n",
       " 'previous_element',\n",
       " 'previous_elements',\n",
       " 'previous_sibling',\n",
       " 'previous_siblings',\n",
       " 'recursiveChildGenerator',\n",
       " 'renderContents',\n",
       " 'replaceWith',\n",
       " 'replaceWithChildren',\n",
       " 'replace_with',\n",
       " 'replace_with_children',\n",
       " 'select',\n",
       " 'select_one',\n",
       " 'setup',\n",
       " 'smooth',\n",
       " 'sourceline',\n",
       " 'sourcepos',\n",
       " 'string',\n",
       " 'strings',\n",
       " 'stripped_strings',\n",
       " 'text',\n",
       " 'unwrap',\n",
       " 'wrap']"
      ]
     },
     "execution_count": 24,
     "metadata": {},
     "output_type": "execute_result"
    }
   ],
   "source": [
    "dir(items[0])"
   ]
  },
  {
   "cell_type": "code",
   "execution_count": 29,
   "id": "4e70d603",
   "metadata": {},
   "outputs": [
    {
     "name": "stdout",
     "output_type": "stream",
     "text": [
      "<class 'bs4.element.NavigableString'>\n",
      "<class 'bs4.element.Tag'>\n",
      "<class 'bs4.element.NavigableString'>\n"
     ]
    }
   ],
   "source": [
    "for i in items[0].children:\n",
    "    print(type(i))"
   ]
  }
 ],
 "metadata": {
  "kernelspec": {
   "display_name": "Python 3 (ipykernel)",
   "language": "python",
   "name": "python3"
  },
  "language_info": {
   "codemirror_mode": {
    "name": "ipython",
    "version": 3
   },
   "file_extension": ".py",
   "mimetype": "text/x-python",
   "name": "python",
   "nbconvert_exporter": "python",
   "pygments_lexer": "ipython3",
   "version": "3.9.7"
  }
 },
 "nbformat": 4,
 "nbformat_minor": 5
}
